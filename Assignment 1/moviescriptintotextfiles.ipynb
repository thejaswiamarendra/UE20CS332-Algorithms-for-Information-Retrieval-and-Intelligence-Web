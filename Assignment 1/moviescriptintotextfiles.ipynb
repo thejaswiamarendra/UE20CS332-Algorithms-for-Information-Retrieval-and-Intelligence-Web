{
 "cells": [
  {
   "cell_type": "code",
   "execution_count": 35,
   "id": "df2b96af",
   "metadata": {},
   "outputs": [],
   "source": [
    "import pandas as pd\n",
    "import requests\n",
    "from bs4 import BeautifulSoup"
   ]
  },
  {
   "cell_type": "code",
   "execution_count": 36,
   "id": "c3f81bd0",
   "metadata": {},
   "outputs": [],
   "source": [
    "df = pd.read_csv('moviescript.csv')"
   ]
  },
  {
   "cell_type": "code",
   "execution_count": 83,
   "id": "23819d06",
   "metadata": {},
   "outputs": [
    {
     "name": "stdout",
     "output_type": "stream",
     "text": [
      "99.9%\r"
     ]
    }
   ],
   "source": [
    "noscript = []\n",
    "\n",
    "for i in range(0, len(df)):\n",
    "    url = df['URL'].iloc[i]\n",
    "    title = df['Title'].iloc[i]\n",
    "    r = requests.get(url)\n",
    "\n",
    "    soup = BeautifulSoup(r.content, 'html.parser') \n",
    "\n",
    "    for j in soup.findAll(\"pre\"):\n",
    "        if len(j.text)>10000:\n",
    "            f = open(\"moviescript/\"+title+\".txt\", \"w\", encoding=\"utf-8\")\n",
    "            f.write(j.text)\n",
    "            f.close()\n",
    "            break\n",
    "#     print(url, len(j.text))\n",
    "    \n",
    "    if len(j.text) == 0:\n",
    "        noscript.append(url)\n",
    "    print(str(i*100/len(df))[:4]+\"%\", end=\"\\r\")\n",
    "\n",
    "    \n",
    "\n",
    "\n",
    "    "
   ]
  },
  {
   "cell_type": "code",
   "execution_count": 85,
   "id": "943bba52",
   "metadata": {},
   "outputs": [
    {
     "data": {
      "text/plain": [
       "['https://imsdb.com/scripts/1492:-Conquest-of-Paradise.html',\n",
       " 'https://imsdb.com/scripts/2001:-A-Space-Odyssey.html',\n",
       " 'https://imsdb.com/scripts/8-Mile.html',\n",
       " 'https://imsdb.com/scripts/Ace-Ventura:-Pet-Detective.html',\n",
       " 'https://imsdb.com/scripts/Airplane-2:-The-Sequel.html',\n",
       " 'https://imsdb.com/scripts/Alien:-Resurrection.html',\n",
       " 'https://imsdb.com/scripts/American-Shaolin:-King-of-Kickboxers-II.html',\n",
       " 'https://imsdb.com/scripts/Angels-&-Demons.html',\n",
       " 'https://imsdb.com/scripts/Apollo-13.html',\n",
       " 'https://imsdb.com/scripts/August:-Osage-County.html',\n",
       " 'https://imsdb.com/scripts/Back-to-the-Future.html',\n",
       " 'https://imsdb.com/scripts/Back-to-the-Future-II-&-III.html',\n",
       " 'https://imsdb.com/scripts/Battle:-Los-Angeles.html',\n",
       " 'https://imsdb.com/scripts/Benny-&-Joon.html',\n",
       " 'https://imsdb.com/scripts/Blade:-Trinity.html',\n",
       " 'https://imsdb.com/scripts/Blues-Brothers,-The.html',\n",
       " 'https://imsdb.com/scripts/Bodies,-Rest-&-Motion.html',\n",
       " 'https://imsdb.com/scripts/Boondock-Saints-2:-All-Saints-Day.html',\n",
       " 'https://imsdb.com/scripts/Celeste-&-Jesse-Forever.html',\n",
       " 'https://imsdb.com/scripts/Chronicles-of-Narnia:-The-Lion,-the-Witch-and-the-Wardrobe.html',\n",
       " \"https://imsdb.com/scripts/Cirque-du-Freak:-The-Vampire's-Assistant.html\",\n",
       " 'https://imsdb.com/scripts/Clockwork-Orange,-A.html',\n",
       " 'https://imsdb.com/scripts/Commando.html',\n",
       " 'https://imsdb.com/scripts/Conan-the-Barbarian.html',\n",
       " 'https://imsdb.com/scripts/Courage-Under-Fire.html',\n",
       " 'https://imsdb.com/scripts/Cowboys-&-Aliens.html',\n",
       " 'https://imsdb.com/scripts/Crow:-City-of-Angels,-The.html',\n",
       " 'https://imsdb.com/scripts/Elizabeth:-The-Golden-Age.html',\n",
       " 'https://imsdb.com/scripts/Equilibrium.html',\n",
       " 'https://imsdb.com/scripts/Evil-Dead-II:-Dead-by-Dawn.html',\n",
       " 'https://imsdb.com/scripts/eXistenZ.html',\n",
       " 'https://imsdb.com/scripts/Frankenstein.html',\n",
       " 'https://imsdb.com/scripts/Frankenweenie.html',\n",
       " 'https://imsdb.com/scripts/Friday-the-13th-Part-VIII:-Jason-Takes-Manhattan.html',\n",
       " 'https://imsdb.com/scripts/G.I.-Joe:-The-Rise-of-Cobra.html',\n",
       " 'https://imsdb.com/scripts/Halloween:-The-Curse-of-Michael-Myers.html',\n",
       " 'https://imsdb.com/scripts/Hellbound:-Hellraiser-II.html',\n",
       " 'https://imsdb.com/scripts/Hellboy-2:-The-Golden-Army.html',\n",
       " 'https://imsdb.com/scripts/Hellraiser-3:-Hell-on-Earth.html',\n",
       " 'https://imsdb.com/scripts/Hellraiser:-Deader.html',\n",
       " 'https://imsdb.com/scripts/Hellraiser:-Hellseeker.html',\n",
       " 'https://imsdb.com/scripts/Highlander:-Endgame.html',\n",
       " 'https://imsdb.com/scripts/How-to-Lose-Friends-&-Alienate-People.html',\n",
       " 'https://imsdb.com/scripts/Jade.html',\n",
       " 'https://imsdb.com/scripts/Jurassic-Park:-The-Lost-World.html',\n",
       " 'https://imsdb.com/scripts/Kate-&-Leopold.html',\n",
       " 'https://imsdb.com/scripts/Kill-Bill-Volume-1-&-2.html',\n",
       " 'https://imsdb.com/scripts/Kiss-of-the-Spider-Woman.html',\n",
       " 'https://imsdb.com/scripts/Lion-King,-The.html',\n",
       " 'https://imsdb.com/scripts/Lord-of-the-Rings:-Fellowship-of-the-Ring,-The.html',\n",
       " 'https://imsdb.com/scripts/Lord-of-the-Rings:-Return-of-the-King.html',\n",
       " 'https://imsdb.com/scripts/Lord-of-the-Rings:-The-Two-Towers.html',\n",
       " 'https://imsdb.com/scripts/Mad-Max-2:-The-Road-Warrior.html',\n",
       " 'https://imsdb.com/scripts/Marley-&-Me.html',\n",
       " 'https://imsdb.com/scripts/Mighty-Morphin-Power-Rangers:-The-Movie.html',\n",
       " \"https://imsdb.com/scripts/Monster's-Ball.html\",\n",
       " \"https://imsdb.com/scripts/Mr.-Holland's-Opus.html\",\n",
       " 'https://imsdb.com/scripts/Nightmare-on-Elm-Street:-The-Final-Chapter.html',\n",
       " 'https://imsdb.com/scripts/Officer-and-a-Gentleman,-An.html',\n",
       " 'https://imsdb.com/scripts/Papadopoulos-&-Sons.html',\n",
       " \"https://imsdb.com/scripts/Pirates-of-the-Caribbean:-Dead-Man's-Chest.html\",\n",
       " 'https://imsdb.com/scripts/Pokemon:-Mewtwo-Returns.html',\n",
       " 'https://imsdb.com/scripts/Rambo:-First-Blood-II:-The-Mission.html',\n",
       " 'https://imsdb.com/scripts/Robin-Hood:-Prince-of-Thieves.html',\n",
       " 'https://imsdb.com/scripts/Robocop.html',\n",
       " 'https://imsdb.com/scripts/Romeo-&-Juliet.html',\n",
       " 'https://imsdb.com/scripts/Scary-Movie-2.html',\n",
       " 'https://imsdb.com/scripts/Shadow-of-the-Vampire.html',\n",
       " 'https://imsdb.com/scripts/Sneakers.html',\n",
       " 'https://imsdb.com/scripts/Speed.html',\n",
       " 'https://imsdb.com/scripts/Star-Trek-II:-The-Wrath-of-Khan.html',\n",
       " 'https://imsdb.com/scripts/Star-Trek:-First-Contact.html',\n",
       " 'https://imsdb.com/scripts/Star-Trek:-Generations.html',\n",
       " 'https://imsdb.com/scripts/Star-Trek:-Nemesis.html',\n",
       " 'https://imsdb.com/scripts/Star-Trek:-The-Motion-Picture.html',\n",
       " 'https://imsdb.com/scripts/Star-Wars:-A-New-Hope.html',\n",
       " 'https://imsdb.com/scripts/Star-Wars:-Attack-of-the-Clones.html',\n",
       " 'https://imsdb.com/scripts/Star-Wars:-Return-of-the-Jedi.html',\n",
       " 'https://imsdb.com/scripts/Star-Wars:-Revenge-of-the-Sith.html',\n",
       " 'https://imsdb.com/scripts/Star-Wars:-The-Empire-Strikes-Back.html',\n",
       " 'https://imsdb.com/scripts/Star-Wars:-The-Force-Awakens.html',\n",
       " 'https://imsdb.com/scripts/Star-Wars:-The-Phantom-Menace.html',\n",
       " 'https://imsdb.com/scripts/Superfights.html',\n",
       " 'https://imsdb.com/scripts/Sweeney-Todd:-The-Demon-Barber-of-Fleet-Street.html',\n",
       " 'https://imsdb.com/scripts/Terminator-2:-Judgement-Day.html',\n",
       " 'https://imsdb.com/scripts/The-Rage:-Carrie-2.html',\n",
       " 'https://imsdb.com/scripts/Thelma-&-Louise.html',\n",
       " 'https://imsdb.com/scripts/This-is-40.html',\n",
       " 'https://imsdb.com/scripts/Transformers:-The-Movie.html',\n",
       " 'https://imsdb.com/scripts/TRON:-Legacy.html',\n",
       " 'https://imsdb.com/scripts/Twilight:-New-Moon.html',\n",
       " 'https://imsdb.com/scripts/Vertigo.html',\n",
       " 'https://imsdb.com/scripts/Wall-Street:-Money-Never-Sleeps.html',\n",
       " 'https://imsdb.com/scripts/When-Harry-Met-Sally.html',\n",
       " 'https://imsdb.com/scripts/Wild-Things:-Diamonds-in-the-Rough.html',\n",
       " 'https://imsdb.com/scripts/X-Files:-Fight-the-Future,-The.html',\n",
       " 'https://imsdb.com/scripts/X-Men-Origins:-Wolverine.html']"
      ]
     },
     "execution_count": 85,
     "metadata": {},
     "output_type": "execute_result"
    }
   ],
   "source": [
    "noscript"
   ]
  },
  {
   "cell_type": "code",
   "execution_count": null,
   "id": "f9840f5a",
   "metadata": {},
   "outputs": [],
   "source": []
  },
  {
   "cell_type": "code",
   "execution_count": null,
   "id": "22fc63c2",
   "metadata": {},
   "outputs": [],
   "source": []
  },
  {
   "cell_type": "code",
   "execution_count": null,
   "id": "20d50f20",
   "metadata": {},
   "outputs": [],
   "source": []
  },
  {
   "cell_type": "code",
   "execution_count": null,
   "id": "0a46ca97",
   "metadata": {},
   "outputs": [],
   "source": []
  },
  {
   "cell_type": "code",
   "execution_count": null,
   "id": "deecb309",
   "metadata": {},
   "outputs": [],
   "source": []
  },
  {
   "cell_type": "code",
   "execution_count": null,
   "id": "643667f5",
   "metadata": {},
   "outputs": [],
   "source": []
  },
  {
   "cell_type": "code",
   "execution_count": null,
   "id": "1f06a4ed",
   "metadata": {},
   "outputs": [],
   "source": []
  },
  {
   "cell_type": "code",
   "execution_count": null,
   "id": "41b9c67f",
   "metadata": {},
   "outputs": [],
   "source": []
  }
 ],
 "metadata": {
  "kernelspec": {
   "display_name": "Python 3 (ipykernel)",
   "language": "python",
   "name": "python3"
  },
  "language_info": {
   "codemirror_mode": {
    "name": "ipython",
    "version": 3
   },
   "file_extension": ".py",
   "mimetype": "text/x-python",
   "name": "python",
   "nbconvert_exporter": "python",
   "pygments_lexer": "ipython3",
   "version": "3.9.12"
  }
 },
 "nbformat": 4,
 "nbformat_minor": 5
}
